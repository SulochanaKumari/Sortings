{
 "cells": [
  {
   "cell_type": "code",
   "execution_count": 9,
   "id": "7123702c-a3c3-44a3-8b0a-2685fa7459b7",
   "metadata": {},
   "outputs": [
    {
     "name": "stdin",
     "output_type": "stream",
     "text": [
      "Enter the number of elements: 5\n"
     ]
    },
    {
     "name": "stdout",
     "output_type": "stream",
     "text": [
      "Enter the elements:\n"
     ]
    },
    {
     "name": "stdin",
     "output_type": "stream",
     "text": [
      " 9\n",
      " 1\n",
      " 7\n",
      " 4\n",
      " 0\n"
     ]
    },
    {
     "name": "stdout",
     "output_type": "stream",
     "text": [
      "Original list: [9, 1, 7, 4, 0]\n",
      "BubbleSorted : [0, 1, 4, 7, 9]\n"
     ]
    }
   ],
   "source": [
    "#Bubble sort\n",
    "'''\n",
    "example:5 3 8 4 6 \n",
    "phase1:\n",
    "compare 5 and 3  5>3 so,we swap the 5 with 3 ''' \n",
    "\n",
    "\n",
    "\n",
    "#Algorithm for bubble sort\n",
    "'''1.Start from the beginning of the array/list2.\n",
    "2.Compare each pair to adjacent number\n",
    "3.If latest element is greater than adjacent perform swap\n",
    "4.Repeat the process till n-1.\n",
    "5.After each cycle/pass,largest unsorted element would be in correct position\n",
    "6.Repeat pass till all the elements are sorted'''\n",
    "#PSEUDO CODE\n",
    "'''\n",
    "for i->0 to n-1:\n",
    "for j->0 to n-i-2:\n",
    "if a[j]>a[j+1]\n",
    "swap(a[j],a[j+1])'''\n",
    "#PROGRAM\n",
    "def bubble_sort(arr):\n",
    "    n=len(arr)\n",
    "    for i in range(n):\n",
    "        for j in range(0,n-i-1):\n",
    "            if arr[j]>arr[j+1]:\n",
    "                arr[j],arr[j+1]=arr[j+1],arr[j]\n",
    "size=int(input(\"Enter the number of elements:\"))\n",
    "arr=[]\n",
    "print(\"Enter the elements:\")\n",
    "for _ in range(size):\n",
    "    arr.append(int(input()))\n",
    "print(\"Original list:\",arr)\n",
    "bubble_sort(arr)\n",
    "print(\"BubbleSorted :\",arr)\n",
    "#O(n)-best case\n",
    "#O(n^2)-worst case"
   ]
  },
  {
   "cell_type": "code",
   "execution_count": null,
   "id": "b86019cc-bb52-49ba-8fe1-8adcc8520eb4",
   "metadata": {},
   "outputs": [],
   "source": [
    "#COUNTING SORT\n",
    "#ALGORITHM \n",
    "'''\n",
    "Non-comparision sort\n",
    "1.no -ve numbers\n",
    "2.no -long numbers\n",
    "3.short confined numbers only ex:0-100\n",
    "ALGORITHM\n",
    "1.find max min of array\n",
    "2.min!<0\n",
    "3.create a count array to store frequence of numbers\n",
    "4.modify the count array for each element to be store the sum of previous counts\n",
    "5.place the output array back to the original array'''\n",
    "#PSEUDO CODE\n",
    "'''\n",
    "countsort(arr,n):\n",
    "1.find the max in arr\n",
    "2.create count(0-max)\n",
    "3.for i ->0 to n-1:\n",
    "count[a[i]] +=1\n",
    "4.for i ->1 to max_val:\n",
    "count[i]+=count[i-1]\n",
    "create output arr[n]\n",
    "5.for i ->n-1 to 0:\n",
    "output[count[a[i]]-1=a[i]\n",
    "count[a[i]]-=1\n",
    "copy output to array'''\n"
   ]
  },
  {
   "cell_type": "code",
   "execution_count": 1,
   "id": "29ae043c-6914-471c-8c47-effc4a1ef19e",
   "metadata": {},
   "outputs": [
    {
     "name": "stdout",
     "output_type": "stream",
     "text": [
      "Before: [4, 2, 2, 8, 3, 3, 1]\n",
      "After: [1, 2, 2, 3, 3, 4, 8]\n"
     ]
    }
   ],
   "source": [
    "def csort(arr):\n",
    "    if not arr:\n",
    "        return[]\n",
    "    max_val=max(arr)\n",
    "    count=[0]*(max_val+1)\n",
    "    #frequence\n",
    "    for num in arr:\n",
    "        count[num]+=1\n",
    "    #count\n",
    "    for i in range(1,len(count)):\n",
    "        count[i]+=count[i-1]\n",
    "    output=[0]*len(arr)\n",
    "    #stable sort\n",
    "    for num in reversed(arr):\n",
    "        output[count[num]-1]=num\n",
    "        count[num]-=1\n",
    "    #coping sorted list\n",
    "    for i in range(len(arr)):\n",
    "        arr[i]=output[i]\n",
    "arr=[4,2,2,8,3,3,1]\n",
    "print(\"Before:\",arr)\n",
    "csort(arr)\n",
    "print(\"After:\",arr)\n"
   ]
  },
  {
   "cell_type": "code",
   "execution_count": null,
   "id": "90fc2c1b-babb-4918-92ec-a029757b060d",
   "metadata": {},
   "outputs": [],
   "source": []
  }
 ],
 "metadata": {
  "kernelspec": {
   "display_name": "Python 3 (ipykernel)",
   "language": "python",
   "name": "python3"
  },
  "language_info": {
   "codemirror_mode": {
    "name": "ipython",
    "version": 3
   },
   "file_extension": ".py",
   "mimetype": "text/x-python",
   "name": "python",
   "nbconvert_exporter": "python",
   "pygments_lexer": "ipython3",
   "version": "3.12.7"
  }
 },
 "nbformat": 4,
 "nbformat_minor": 5
}
