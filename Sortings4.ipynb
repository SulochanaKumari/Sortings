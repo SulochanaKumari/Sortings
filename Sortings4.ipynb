{
 "cells": [
  {
   "cell_type": "code",
   "execution_count": 7,
   "id": "48e656b0-d3ba-4fcb-a961-f522d3d58d49",
   "metadata": {},
   "outputs": [
    {
     "name": "stdin",
     "output_type": "stream",
     "text": [
      "Enter numbers seperated with space: 88 9 0 5 12\n"
     ]
    },
    {
     "name": "stdout",
     "output_type": "stream",
     "text": [
      "Flip at 5:[12, 5, 0, 9, 88]\n",
      "Flip at 4:[9, 0, 5, 12, 88]\n",
      "Flip at 3:[5, 0, 9, 12, 88]\n",
      "Flip at 2:[0, 5, 9, 12, 88]\n",
      "Sorted [0, 5, 9, 12, 88]\n"
     ]
    }
   ],
   "source": [
    "#Pancake Sort\n",
    "'''\n",
    "1.High value\n",
    "2.High value flip\n",
    "3.total flip\n",
    "4.set fix value'''\n",
    "#ALGORITHM\n",
    "'''\n",
    "1.Start completearray nd decrease the size(n-1)\n",
    "2.for each size:\n",
    "a.find the index of max element\n",
    "b.flip the array with max element index\n",
    "c.flip the total array to the current size max->move to the end of the array\n",
    "3.Repeat step1 by n-1,n-2,n-3......\n",
    "for n th reduced element perform step2 until 0th index value respectively.....'''\n",
    "#Pancake sort program\n",
    "#arr=[88,9,0,5]\n",
    "def flip(arr,k):\n",
    "    return arr[:k+1][::-1]+arr[k+1:]\n",
    "def pancake(arr):\n",
    "    n=len(arr)\n",
    "    for size in range(n,1,-1):\n",
    "        max_index=arr.index(max(arr[:size]))\n",
    "        if max_index !=0:\n",
    "            arr=flip(arr,max_index)\n",
    "            print(f\"Flip at {max_index+1}:{arr}\")\n",
    "        arr=flip(arr,size-1) \n",
    "        print(f\"Flip at {size}:{arr}\")\n",
    "    return arr   \n",
    "nums=list(map(int,input(\"Enter numbers seperated with space:\").split()))\n",
    "sorted_nums=pancake(nums)\n",
    "print(\"Sorted\",sorted_nums)"
   ]
  },
  {
   "cell_type": "code",
   "execution_count": null,
   "id": "b258388e-7a07-40e2-9178-8bf2fe9a2c50",
   "metadata": {},
   "outputs": [],
   "source": []
  }
 ],
 "metadata": {
  "kernelspec": {
   "display_name": "Python 3 (ipykernel)",
   "language": "python",
   "name": "python3"
  },
  "language_info": {
   "codemirror_mode": {
    "name": "ipython",
    "version": 3
   },
   "file_extension": ".py",
   "mimetype": "text/x-python",
   "name": "python",
   "nbconvert_exporter": "python",
   "pygments_lexer": "ipython3",
   "version": "3.12.7"
  }
 },
 "nbformat": 4,
 "nbformat_minor": 5
}
