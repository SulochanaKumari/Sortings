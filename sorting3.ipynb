{
 "cells": [
  {
   "cell_type": "code",
   "execution_count": 1,
   "id": "d644c63f-a140-45fe-9fb8-3c8f9f904cab",
   "metadata": {},
   "outputs": [
    {
     "name": "stdin",
     "output_type": "stream",
     "text": [
      "Enter a single word: mississippi\n"
     ]
    },
    {
     "name": "stdout",
     "output_type": "stream",
     "text": [
      "Original string: mississippi\n",
      "Sorted string:  iiiimppssss\n"
     ]
    }
   ],
   "source": [
    "#count_str program\n",
    "def csortString(s):\n",
    "    count=[0]*26\n",
    "    for char in s:\n",
    "        count[ord(char)-ord('a')]+=1\n",
    "    sorted_str=' '\n",
    "    for i in range(26):\n",
    "        sorted_str+=chr(i+ord('a'))*count[i]\n",
    "    return sorted_str    \n",
    "name=input(\"Enter a single word:\")\n",
    "sorted_name=csortString(name)\n",
    "print(\"Original string:\",name)\n",
    "print(\"Sorted string:\",sorted_name)"
   ]
  },
  {
   "cell_type": "code",
   "execution_count": 8,
   "id": "97675396-96d8-4a70-96c0-eb7191da5619",
   "metadata": {},
   "outputs": [
    {
     "name": "stdout",
     "output_type": "stream",
     "text": [
      "Before sort [170, 45, 75, 90, 802, 24, 2, 66]\n",
      "After sort [2, 24, 45, 66, 75, 90, 170, 802]\n"
     ]
    }
   ],
   "source": [
    "#RADIX SORT\n",
    "#ALGORITHM\n",
    "#1.Find the maximum number to determine number of digits\n",
    "#2.Set 10^0,for digit position\n",
    "#3.Increment digit position,w.r.t pass\n",
    "#4.loop ->max num//exp>0\n",
    "#perform count sort based on current digit\n",
    "#(num//exp)%10\n",
    "#multiply exp by 10\n",
    "##PROGRAM\n",
    "def count_sort(arr,exp):\n",
    "    n=len(arr)\n",
    "    output=[0]*n\n",
    "    count=[0]*10 #0->9 empty buckets for count of digits\n",
    "    for i in range(n):     #Frequencies of units posion of numbers\n",
    "        index=(arr[i]//exp)%10\n",
    "        count[index]+=1\n",
    "    for i in range(1,10):\n",
    "        count[i]+=count[i-1]\n",
    "    i=n-1\n",
    "    while i>=0:\n",
    "        index=(arr[i]//exp)%10\n",
    "        output[count[index]-1]=arr[i]\n",
    "        count[index]-=1\n",
    "        i-=1\n",
    "    for i in range(n):\n",
    "        arr[i]=output[i]\n",
    "def radix_sort(arr):\n",
    "    max_num=max(arr)\n",
    "    exp=1f\n",
    "    while max_num//exp>0:\n",
    "        count_sort(arr,exp)\n",
    "        exp*=10\n",
    "arr=[170,45,75,90,802,24,2,66]\n",
    "print(\"Before sort\",arr)\n",
    "radix_sort(arr)\n",
    "print(\"After sort\",arr)"
   ]
  },
  {
   "cell_type": "code",
   "execution_count": null,
   "id": "4efd5fa7-2f49-4fe8-ba2b-7e5d617b8b6a",
   "metadata": {},
   "outputs": [],
   "source": []
  }
 ],
 "metadata": {
  "kernelspec": {
   "display_name": "Python 3 (ipykernel)",
   "language": "python",
   "name": "python3"
  },
  "language_info": {
   "codemirror_mode": {
    "name": "ipython",
    "version": 3
   },
   "file_extension": ".py",
   "mimetype": "text/x-python",
   "name": "python",
   "nbconvert_exporter": "python",
   "pygments_lexer": "ipython3",
   "version": "3.12.7"
  }
 },
 "nbformat": 4,
 "nbformat_minor": 5
}
