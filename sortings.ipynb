{
 "cells": [
  {
   "cell_type": "code",
   "execution_count": 18,
   "id": "920f3ccd-86bb-4a75-be34-6047c18714a7",
   "metadata": {},
   "outputs": [
    {
     "name": "stdin",
     "output_type": "stream",
     "text": [
      "Enter the number of elements: 5\n"
     ]
    },
    {
     "name": "stdout",
     "output_type": "stream",
     "text": [
      "Enter  5 elements\n"
     ]
    },
    {
     "name": "stdin",
     "output_type": "stream",
     "text": [
      " 34\n",
      " 56\n",
      " 76\n",
      " 12\n",
      " 43\n"
     ]
    },
    {
     "name": "stdout",
     "output_type": "stream",
     "text": [
      "Sorted array [12, 34, 43, 56, 76]\n"
     ]
    }
   ],
   "source": [
    "#SORTINGS\n",
    "'''Selection\n",
    "Insertion\n",
    "Bubble\n",
    "Quick\n",
    "Counting\n",
    "Radix\n",
    "Heap'''\n",
    "#SELECTION SORT\n",
    "'''\n",
    "Example for selection sort\n",
    "\n",
    "Unsorted order \n",
    "17 14 15 19 18 12 1\n",
    "                  lowest value\n",
    "->1 14 15 19 18 12 17\n",
    "              l\n",
    "->1 12 15 19 18 14 17\n",
    "               l\n",
    "->1 12 14 19 18 15 17\n",
    "               l\n",
    "->1 12 14 15 18 19 17\n",
    "                  l\n",
    "->1 12 14 15 17 19 18\n",
    "                  l\n",
    "->1 12 14 15 17 18 19\n",
    "\n",
    "1.select lowest value\n",
    "2.swap with min index value\n",
    "3.check with next lowest value and swap with i[0]+1\n",
    "ALGORITHM\n",
    "1.Start from the first element in the list/array\n",
    "2.arr[0]=min\n",
    "3.Compare with all the remaining elements to find the real lowest element\n",
    "4.Perform swapping with current position\n",
    "5.Repeat the same with adding positional values for each min value and check \n",
    "\n",
    "PSEUDO CODE\n",
    "for ->0 to n-1:\n",
    "        min=i\n",
    "        for j->i+1 to n:\n",
    "               if arr[j]<arr(min)\n",
    "                      swap\n",
    "min=i+1 \n",
    "NOTE:for desending order we just change the if conditionlo > symbol'''\n",
    "#PROGRAM \n",
    "def selection_sort(arr):\n",
    "    n=len(arr)\n",
    "    for i in range(n):\n",
    "        min_index=i\n",
    "        for j in range(i+1,n):\n",
    "            if arr[j]<arr[min_index]:\n",
    "                min_index=j\n",
    "        arr[i],arr[min_index]=arr[min_index],arr[i]\n",
    "    return arr            \n",
    "size=int(input(\"Enter the number of elements:\"))\n",
    "arr=[]\n",
    "print(\"Enter \",size,\"elements\")\n",
    "for _ in range(size):\n",
    "    num=int(input())\n",
    "    arr.append(num)\n",
    "result=selection_sort(arr)\n",
    "print(\"Sorted array\",result)"
   ]
  },
  {
   "cell_type": "code",
   "execution_count": 4,
   "id": "2b672f77-72ab-45a5-af81-9a91f6f257c6",
   "metadata": {},
   "outputs": [
    {
     "name": "stdin",
     "output_type": "stream",
     "text": [
      "Enter the number of elements: 5\n"
     ]
    },
    {
     "name": "stdout",
     "output_type": "stream",
     "text": [
      "Enter  5 elements\n"
     ]
    },
    {
     "name": "stdin",
     "output_type": "stream",
     "text": [
      " mango\n",
      " apple\n",
      " grapes\n",
      " orange\n",
      " papaya\n"
     ]
    },
    {
     "name": "stdout",
     "output_type": "stream",
     "text": [
      "Sorted names: apple grapes mango orange papaya\n"
     ]
    }
   ],
   "source": [
    "#INSERTION SORT\n",
    "'''ALGORITHM\n",
    "1.Start from the second element(i=1)\n",
    "2.Previous index valued element check\n",
    "3.shift larger element one position to the right\n",
    "4.insert the current element in the correct position\n",
    "5.repeat until list sorted'''\n",
    "#PSEUDO CODE\n",
    "\n",
    "'''for i->1 to n-1:\n",
    "        key=arr[i]\n",
    "        j=i-1\n",
    "        while j>=0 and arr[j]>key\n",
    "                  arr[j+1]=arr[j]\n",
    "                  j-=1\n",
    "        arr[j+1]=key'''\n",
    "#program\n",
    "def insertion_sort(arr):\n",
    "    for i in range(1,len(arr)):\n",
    "        key=arr[i]\n",
    "        j=i-1\n",
    "        while j>=0 and arr[j]>key:\n",
    "            arr[j+1]=arr[j]\n",
    "            j-=1\n",
    "        arr[j+1]=key\n",
    "    return arr    \n",
    "size=int(input(\"Enter the number of elements:\"))\n",
    "arr=[]\n",
    "print(\"Enter \",size,\"elements\")\n",
    "for _ in range(size):\n",
    "    name=input()\n",
    "    arr.append(name)\n",
    "result=insertion_sort(arr)\n",
    "result_str=' '.join(result)\n",
    "print(\"Sorted names:\",result_str)"
   ]
  },
  {
   "cell_type": "code",
   "execution_count": 5,
   "id": "addfb8ad-beae-42cf-8a62-30a1bb394176",
   "metadata": {},
   "outputs": [
    {
     "name": "stdin",
     "output_type": "stream",
     "text": [
      "Enter the number of elements: 3\n"
     ]
    },
    {
     "name": "stdout",
     "output_type": "stream",
     "text": [
      "Enter  3 elements\n"
     ]
    },
    {
     "name": "stdin",
     "output_type": "stream",
     "text": [
      " sun\n",
      " moon\n",
      " earth\n"
     ]
    },
    {
     "name": "stdout",
     "output_type": "stream",
     "text": [
      "Sorted arrays: ['sun', 'moon', 'earth']\n"
     ]
    }
   ],
   "source": [
    "'''Perform insertion sort on strings based on length of the words'''\n",
    "def insertion_sort(arr):\n",
    "    for i in range(1,len(arr)):\n",
    "        key=arr[i]\n",
    "        j=i-1\n",
    "        while j>=0 and len(arr[j])>len(key):\n",
    "            arr[j+1]=arr[j]\n",
    "            j-=1\n",
    "        arr[j+1]=key\n",
    "    return arr    \n",
    "size=int(input(\"Enter the number of elements:\"))\n",
    "arr=[]\n",
    "print(\"Enter \",size,\"elements\")\n",
    "for _ in range(size):\n",
    "    name=input()\n",
    "    arr.append(name)\n",
    "result=insertion_sort(arr)\n",
    "print(\"Sorted arrays:\",result)"
   ]
  },
  {
   "cell_type": "code",
   "execution_count": 9,
   "id": "83b17550-e576-4ee9-aa0b-28566262e8e5",
   "metadata": {},
   "outputs": [
    {
     "name": "stdin",
     "output_type": "stream",
     "text": [
      "Enter a string python\n"
     ]
    },
    {
     "name": "stdout",
     "output_type": "stream",
     "text": [
      "['h', 'n', 'o', 'p', 't', 'y']\n",
      "Sorted characters: h n o p t y\n"
     ]
    }
   ],
   "source": [
    "'''python->input\n",
    "hnopty->output'''\n",
    "def insertion_sort(arr):\n",
    "    for i in range(1,len(arr)):\n",
    "        key=arr[i]\n",
    "        j=i-1\n",
    "        while j>=0 and arr[j]>(key):\n",
    "            arr[j+1]=arr[j]\n",
    "            j-=1\n",
    "        arr[j+1]=key\n",
    "    return arr  \n",
    "text=input(\"Enter a string\")\n",
    "ch=list(text)\n",
    "sort_chars=insertion_sort(ch)\n",
    "print(ch)\n",
    "print(\"Sorted characters:\",' ' .join(ch))\n"
   ]
  },
  {
   "cell_type": "code",
   "execution_count": null,
   "id": "239038ec-baf5-4a4c-9012-29e4e764cc65",
   "metadata": {},
   "outputs": [],
   "source": []
  }
 ],
 "metadata": {
  "kernelspec": {
   "display_name": "Python 3 (ipykernel)",
   "language": "python",
   "name": "python3"
  },
  "language_info": {
   "codemirror_mode": {
    "name": "ipython",
    "version": 3
   },
   "file_extension": ".py",
   "mimetype": "text/x-python",
   "name": "python",
   "nbconvert_exporter": "python",
   "pygments_lexer": "ipython3",
   "version": "3.12.7"
  }
 },
 "nbformat": 4,
 "nbformat_minor": 5
}
